{
 "cells": [
  {
   "cell_type": "markdown",
   "metadata": {},
   "source": [
    "# ComposeML\n",
    "### Getting Started\n",
    "In this example, we have a data frame of transactions from different customers. To get an idea on how the data looks, we preview the data frame."
   ]
  },
  {
   "cell_type": "code",
   "execution_count": 1,
   "metadata": {},
   "outputs": [
    {
     "data": {
      "text/html": [
       "<div>\n",
       "<style scoped>\n",
       "    .dataframe tbody tr th:only-of-type {\n",
       "        vertical-align: middle;\n",
       "    }\n",
       "\n",
       "    .dataframe tbody tr th {\n",
       "        vertical-align: top;\n",
       "    }\n",
       "\n",
       "    .dataframe thead th {\n",
       "        text-align: right;\n",
       "    }\n",
       "</style>\n",
       "<table border=\"1\" class=\"dataframe\">\n",
       "  <thead>\n",
       "    <tr style=\"text-align: right;\">\n",
       "      <th></th>\n",
       "      <th>transaction_id</th>\n",
       "      <th>session_id</th>\n",
       "      <th>product_id</th>\n",
       "      <th>amount</th>\n",
       "      <th>customer_id</th>\n",
       "      <th>device</th>\n",
       "      <th>session_start</th>\n",
       "      <th>zip_code</th>\n",
       "    </tr>\n",
       "    <tr>\n",
       "      <th>transaction_time</th>\n",
       "      <th></th>\n",
       "      <th></th>\n",
       "      <th></th>\n",
       "      <th></th>\n",
       "      <th></th>\n",
       "      <th></th>\n",
       "      <th></th>\n",
       "      <th></th>\n",
       "    </tr>\n",
       "  </thead>\n",
       "  <tbody>\n",
       "    <tr>\n",
       "      <th>2014-01-01 00:00:00</th>\n",
       "      <td>298</td>\n",
       "      <td>1</td>\n",
       "      <td>5</td>\n",
       "      <td>127.64</td>\n",
       "      <td>2</td>\n",
       "      <td>desktop</td>\n",
       "      <td>2014-01-01 00:00:00</td>\n",
       "      <td>13244</td>\n",
       "    </tr>\n",
       "    <tr>\n",
       "      <th>2014-01-01 00:09:45</th>\n",
       "      <td>10</td>\n",
       "      <td>1</td>\n",
       "      <td>5</td>\n",
       "      <td>57.39</td>\n",
       "      <td>2</td>\n",
       "      <td>desktop</td>\n",
       "      <td>2014-01-01 00:00:00</td>\n",
       "      <td>13244</td>\n",
       "    </tr>\n",
       "    <tr>\n",
       "      <th>2014-01-01 00:14:05</th>\n",
       "      <td>495</td>\n",
       "      <td>1</td>\n",
       "      <td>5</td>\n",
       "      <td>69.45</td>\n",
       "      <td>2</td>\n",
       "      <td>desktop</td>\n",
       "      <td>2014-01-01 00:00:00</td>\n",
       "      <td>13244</td>\n",
       "    </tr>\n",
       "    <tr>\n",
       "      <th>2014-01-01 02:33:50</th>\n",
       "      <td>460</td>\n",
       "      <td>10</td>\n",
       "      <td>5</td>\n",
       "      <td>123.19</td>\n",
       "      <td>2</td>\n",
       "      <td>tablet</td>\n",
       "      <td>2014-01-01 02:31:40</td>\n",
       "      <td>13244</td>\n",
       "    </tr>\n",
       "    <tr>\n",
       "      <th>2014-01-01 02:37:05</th>\n",
       "      <td>302</td>\n",
       "      <td>10</td>\n",
       "      <td>5</td>\n",
       "      <td>64.47</td>\n",
       "      <td>2</td>\n",
       "      <td>tablet</td>\n",
       "      <td>2014-01-01 02:31:40</td>\n",
       "      <td>13244</td>\n",
       "    </tr>\n",
       "  </tbody>\n",
       "</table>\n",
       "</div>"
      ],
      "text/plain": [
       "                     transaction_id  session_id product_id  amount  \\\n",
       "transaction_time                                                     \n",
       "2014-01-01 00:00:00             298           1          5  127.64   \n",
       "2014-01-01 00:09:45              10           1          5   57.39   \n",
       "2014-01-01 00:14:05             495           1          5   69.45   \n",
       "2014-01-01 02:33:50             460          10          5  123.19   \n",
       "2014-01-01 02:37:05             302          10          5   64.47   \n",
       "\n",
       "                     customer_id   device       session_start zip_code  \n",
       "transaction_time                                                        \n",
       "2014-01-01 00:00:00            2  desktop 2014-01-01 00:00:00    13244  \n",
       "2014-01-01 00:09:45            2  desktop 2014-01-01 00:00:00    13244  \n",
       "2014-01-01 00:14:05            2  desktop 2014-01-01 00:00:00    13244  \n",
       "2014-01-01 02:33:50            2   tablet 2014-01-01 02:31:40    13244  \n",
       "2014-01-01 02:37:05            2   tablet 2014-01-01 02:31:40    13244  "
      ]
     },
     "execution_count": 1,
     "metadata": {},
     "output_type": "execute_result"
    }
   ],
   "source": [
    "from featuretools.demo import load_mock_customer\n",
    "df = load_mock_customer(return_single_table=True)\n",
    "df.set_index('transaction_time', inplace=True)\n",
    "\n",
    "df[df.columns[:8]].head()"
   ]
  },
  {
   "cell_type": "markdown",
   "metadata": {},
   "source": [
    "We want to extract label times for each customer where the label equals the total purchase amount over the next hour of transactions. First, we define a function that will return the total purchase amount given an hour of transactions."
   ]
  },
  {
   "cell_type": "code",
   "execution_count": 2,
   "metadata": {},
   "outputs": [],
   "source": [
    "def my_labeling_function(df_slice):\n",
    "    label = df_slice[\"amount\"].sum()\n",
    "    return label"
   ]
  },
  {
   "cell_type": "markdown",
   "metadata": {},
   "source": [
    "With the labeling function, we create `LabelMaker` to search and extract the labels from the data frame."
   ]
  },
  {
   "cell_type": "code",
   "execution_count": 3,
   "metadata": {},
   "outputs": [],
   "source": [
    "from composeml import LabelMaker\n",
    "\n",
    "label_maker = LabelMaker(\n",
    "    target_entity=\"customer_id\",\n",
    "    time_index=\"transaction_time\",\n",
    "    labeling_function=my_labeling_function,\n",
    "    window_size=\"2h\",\n",
    ")"
   ]
  },
  {
   "cell_type": "code",
   "execution_count": 4,
   "metadata": {},
   "outputs": [
    {
     "data": {
      "text/html": [
       "<div>\n",
       "<style scoped>\n",
       "    .dataframe tbody tr th:only-of-type {\n",
       "        vertical-align: middle;\n",
       "    }\n",
       "\n",
       "    .dataframe tbody tr th {\n",
       "        vertical-align: top;\n",
       "    }\n",
       "\n",
       "    .dataframe thead th {\n",
       "        text-align: right;\n",
       "    }\n",
       "</style>\n",
       "<table border=\"1\" class=\"dataframe\">\n",
       "  <thead>\n",
       "    <tr style=\"text-align: right;\">\n",
       "      <th></th>\n",
       "      <th></th>\n",
       "      <th>my_labeling_function</th>\n",
       "    </tr>\n",
       "    <tr>\n",
       "      <th>customer_id</th>\n",
       "      <th>time</th>\n",
       "      <th></th>\n",
       "    </tr>\n",
       "  </thead>\n",
       "  <tbody>\n",
       "    <tr>\n",
       "      <th rowspan=\"2\" valign=\"top\">1</th>\n",
       "      <th>2014-01-01 01:45:30</th>\n",
       "      <td>2077.66</td>\n",
       "    </tr>\n",
       "    <tr>\n",
       "      <th>2014-01-01 03:45:30</th>\n",
       "      <td>943.28</td>\n",
       "    </tr>\n",
       "    <tr>\n",
       "      <th rowspan=\"2\" valign=\"top\">2</th>\n",
       "      <th>2014-01-01 01:00:00</th>\n",
       "      <td>1320.64</td>\n",
       "    </tr>\n",
       "    <tr>\n",
       "      <th>2014-01-01 03:00:00</th>\n",
       "      <td>2605.61</td>\n",
       "    </tr>\n",
       "    <tr>\n",
       "      <th>3</th>\n",
       "      <th>2014-01-01 02:45:05</th>\n",
       "      <td>944.85</td>\n",
       "    </tr>\n",
       "  </tbody>\n",
       "</table>\n",
       "</div>"
      ],
      "text/plain": [
       "                                 my_labeling_function\n",
       "customer_id time                                     \n",
       "1           2014-01-01 01:45:30               2077.66\n",
       "            2014-01-01 03:45:30                943.28\n",
       "2           2014-01-01 01:00:00               1320.64\n",
       "            2014-01-01 03:00:00               2605.61\n",
       "3           2014-01-01 02:45:05                944.85"
      ]
     },
     "execution_count": 4,
     "metadata": {},
     "output_type": "execute_result"
    }
   ],
   "source": [
    "label_times = label_maker.search(\n",
    "    df,\n",
    "    minimum_data=\"1h\",\n",
    "    num_examples_per_instance=2,\n",
    "    gap=\"2h\",\n",
    ")\n",
    "\n",
    "label_times.head()"
   ]
  },
  {
   "cell_type": "markdown",
   "metadata": {},
   "source": [
    "Next, we take those label times and transform them into binary labels if the total amout was above 1000."
   ]
  },
  {
   "cell_type": "code",
   "execution_count": 5,
   "metadata": {},
   "outputs": [
    {
     "data": {
      "text/html": [
       "<div>\n",
       "<style scoped>\n",
       "    .dataframe tbody tr th:only-of-type {\n",
       "        vertical-align: middle;\n",
       "    }\n",
       "\n",
       "    .dataframe tbody tr th {\n",
       "        vertical-align: top;\n",
       "    }\n",
       "\n",
       "    .dataframe thead th {\n",
       "        text-align: right;\n",
       "    }\n",
       "</style>\n",
       "<table border=\"1\" class=\"dataframe\">\n",
       "  <thead>\n",
       "    <tr style=\"text-align: right;\">\n",
       "      <th></th>\n",
       "      <th></th>\n",
       "      <th>my_labeling_function</th>\n",
       "    </tr>\n",
       "    <tr>\n",
       "      <th>customer_id</th>\n",
       "      <th>time</th>\n",
       "      <th></th>\n",
       "    </tr>\n",
       "  </thead>\n",
       "  <tbody>\n",
       "    <tr>\n",
       "      <th rowspan=\"2\" valign=\"top\">1</th>\n",
       "      <th>2014-01-01 01:45:30</th>\n",
       "      <td>True</td>\n",
       "    </tr>\n",
       "    <tr>\n",
       "      <th>2014-01-01 03:45:30</th>\n",
       "      <td>False</td>\n",
       "    </tr>\n",
       "    <tr>\n",
       "      <th rowspan=\"2\" valign=\"top\">2</th>\n",
       "      <th>2014-01-01 01:00:00</th>\n",
       "      <td>True</td>\n",
       "    </tr>\n",
       "    <tr>\n",
       "      <th>2014-01-01 03:00:00</th>\n",
       "      <td>True</td>\n",
       "    </tr>\n",
       "    <tr>\n",
       "      <th>3</th>\n",
       "      <th>2014-01-01 02:45:05</th>\n",
       "      <td>False</td>\n",
       "    </tr>\n",
       "  </tbody>\n",
       "</table>\n",
       "</div>"
      ],
      "text/plain": [
       "                                 my_labeling_function\n",
       "customer_id time                                     \n",
       "1           2014-01-01 01:45:30                  True\n",
       "            2014-01-01 03:45:30                 False\n",
       "2           2014-01-01 01:00:00                  True\n",
       "            2014-01-01 03:00:00                  True\n",
       "3           2014-01-01 02:45:05                 False"
      ]
     },
     "execution_count": 5,
     "metadata": {},
     "output_type": "execute_result"
    }
   ],
   "source": [
    "label_times = label_times.threshold(1000)\n",
    "\n",
    "label_times.head()"
   ]
  },
  {
   "cell_type": "markdown",
   "metadata": {},
   "source": [
    "We could also take those label times and shift the time 1 hour earlier, so we can predict in advance."
   ]
  },
  {
   "cell_type": "code",
   "execution_count": 6,
   "metadata": {},
   "outputs": [
    {
     "data": {
      "text/html": [
       "<div>\n",
       "<style scoped>\n",
       "    .dataframe tbody tr th:only-of-type {\n",
       "        vertical-align: middle;\n",
       "    }\n",
       "\n",
       "    .dataframe tbody tr th {\n",
       "        vertical-align: top;\n",
       "    }\n",
       "\n",
       "    .dataframe thead th {\n",
       "        text-align: right;\n",
       "    }\n",
       "</style>\n",
       "<table border=\"1\" class=\"dataframe\">\n",
       "  <thead>\n",
       "    <tr style=\"text-align: right;\">\n",
       "      <th></th>\n",
       "      <th></th>\n",
       "      <th>my_labeling_function</th>\n",
       "    </tr>\n",
       "    <tr>\n",
       "      <th>customer_id</th>\n",
       "      <th>time</th>\n",
       "      <th></th>\n",
       "    </tr>\n",
       "  </thead>\n",
       "  <tbody>\n",
       "    <tr>\n",
       "      <th rowspan=\"2\" valign=\"top\">1</th>\n",
       "      <th>2014-01-01 00:45:30</th>\n",
       "      <td>True</td>\n",
       "    </tr>\n",
       "    <tr>\n",
       "      <th>2014-01-01 02:45:30</th>\n",
       "      <td>False</td>\n",
       "    </tr>\n",
       "    <tr>\n",
       "      <th rowspan=\"2\" valign=\"top\">2</th>\n",
       "      <th>2014-01-01 00:00:00</th>\n",
       "      <td>True</td>\n",
       "    </tr>\n",
       "    <tr>\n",
       "      <th>2014-01-01 02:00:00</th>\n",
       "      <td>True</td>\n",
       "    </tr>\n",
       "    <tr>\n",
       "      <th>3</th>\n",
       "      <th>2014-01-01 01:45:05</th>\n",
       "      <td>False</td>\n",
       "    </tr>\n",
       "  </tbody>\n",
       "</table>\n",
       "</div>"
      ],
      "text/plain": [
       "                                 my_labeling_function\n",
       "customer_id time                                     \n",
       "1           2014-01-01 00:45:30                  True\n",
       "            2014-01-01 02:45:30                 False\n",
       "2           2014-01-01 00:00:00                  True\n",
       "            2014-01-01 02:00:00                  True\n",
       "3           2014-01-01 01:45:05                 False"
      ]
     },
     "execution_count": 6,
     "metadata": {},
     "output_type": "execute_result"
    }
   ],
   "source": [
    "label_times = label_times.apply_lead('1h')\n",
    "\n",
    "label_times.head()"
   ]
  }
 ],
 "metadata": {
  "kernelspec": {
   "display_name": "Python 3",
   "language": "python",
   "name": "python3"
  },
  "language_info": {
   "codemirror_mode": {
    "name": "ipython",
    "version": 3
   },
   "file_extension": ".py",
   "mimetype": "text/x-python",
   "name": "python",
   "nbconvert_exporter": "python",
   "pygments_lexer": "ipython3",
   "version": "3.7.0"
  }
 },
 "nbformat": 4,
 "nbformat_minor": 2
}
