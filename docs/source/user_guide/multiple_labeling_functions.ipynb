{
 "cells": [
  {
   "cell_type": "markdown",
   "metadata": {},
   "source": [
    "# Multiple Labeling Functions\n",
    "\n",
    "During a search process, more than one labeling function can process each data slice. Let's go through an example using this dataset of retail transactions."
   ]
  },
  {
   "cell_type": "code",
   "execution_count": null,
   "metadata": {},
   "outputs": [],
   "source": [
    "import composeml as cp\n",
    "\n",
    "columns = [\n",
    "    'customer_id',\n",
    "    'transaction_time',\n",
    "    'amount',\n",
    "    'brand',\n",
    "    'product_id',\n",
    "]\n",
    "\n",
    "df = cp.demos.load_transactions()[columns]\n",
    "df.head()"
   ]
  },
  {
   "cell_type": "markdown",
   "metadata": {},
   "source": [
    "We will start by defining multiple labeling functions that calculate three target variables about the customers. The labeling functions will calculate the total amount they spent, their favorite brand, and the number of unique items they purchased for each transaction period."
   ]
  },
  {
   "cell_type": "code",
   "execution_count": null,
   "metadata": {},
   "outputs": [],
   "source": [
    "def total_spent(ds):\n",
    "    \"\"\"The total amount spent by a customer.\"\"\"\n",
    "    return ds.amount.sum()\n",
    "\n",
    "def favorite_brand(ds):\n",
    "    \"\"\"The most frequnetly purchased brand.\"\"\"\n",
    "    return ds.brand.value_counts().idxmax()\n",
    "\n",
    "def unique_products(ds):\n",
    "    \"\"\"The number of unique products purchased by a customer.\"\"\"\n",
    "    return ds.product_id.nunique()"
   ]
  },
  {
   "cell_type": "markdown",
   "metadata": {},
   "source": [
    "Now, we can create the label maker while passing in a list that contains our labeling functions."
   ]
  },
  {
   "cell_type": "code",
   "execution_count": null,
   "metadata": {},
   "outputs": [],
   "source": [
    "lm = cp.LabelMaker(\n",
    "    target_entity='customer_id',\n",
    "    time_index='transaction_time',\n",
    "    labeling_function=[\n",
    "        total_spent,\n",
    "        favorite_brand,\n",
    "        unique_products,\n",
    "    ],\n",
    "    window_size='1h',\n",
    ")"
   ]
  },
  {
   "cell_type": "markdown",
   "metadata": {},
   "source": [
    "Running the search will return all target variables in the label times."
   ]
  },
  {
   "cell_type": "code",
   "execution_count": null,
   "metadata": {},
   "outputs": [],
   "source": [
    "lt = lm.search(\n",
    "    df.sort_values('transaction_time'),\n",
    "    num_examples_per_instance=3,\n",
    "    verbose=False,\n",
    ")\n",
    "\n",
    "lt.head()"
   ]
  },
  {
   "cell_type": "markdown",
   "metadata": {},
   "source": [
    "We will need to first select an individual target before applying transforms, plotting targets, or making labeling descriptions."
   ]
  },
  {
   "cell_type": "code",
   "execution_count": null,
   "metadata": {},
   "outputs": [],
   "source": [
    "lt.select('favorite_brand').head()"
   ]
  }
 ],
 "metadata": {
  "kernelspec": {
   "display_name": "Python 3",
   "language": "python",
   "name": "python3"
  },
  "language_info": {
   "codemirror_mode": {
    "name": "ipython",
    "version": 3
   },
   "file_extension": ".py",
   "mimetype": "text/x-python",
   "name": "python",
   "nbconvert_exporter": "python",
   "pygments_lexer": "ipython3",
   "version": "3.7.5"
  }
 },
 "nbformat": 4,
 "nbformat_minor": 4
}
