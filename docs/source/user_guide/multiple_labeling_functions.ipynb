{
 "cells": [
  {
   "cell_type": "markdown",
   "metadata": {},
   "source": [
    "# Multiple Labeling Functions"
   ]
  },
  {
   "cell_type": "code",
   "execution_count": null,
   "metadata": {},
   "outputs": [],
   "source": [
    "import composeml as cp\n",
    "\n",
    "columns = [\n",
    "    'customer_id',\n",
    "    'transaction_time',\n",
    "    'amount',\n",
    "    'brand',\n",
    "    'product_id',\n",
    "]\n",
    "\n",
    "df = cp.demos.load_transactions()[columns]\n",
    "df.head()"
   ]
  },
  {
   "cell_type": "code",
   "execution_count": null,
   "metadata": {},
   "outputs": [],
   "source": [
    "labeling_functions = {\n",
    "    'total_spent': lambda ds: ds.amount.sum(),\n",
    "    'favorite_brand': lambda ds: ds.brand.value_counts().idxmax(),\n",
    "    'unique_products': lambda ds: ds.product_id.nunique(),\n",
    "}\n",
    "\n",
    "lm = cp.LabelMaker(\n",
    "    target_entity='customer_id',\n",
    "    time_index='transaction_time',\n",
    "    labeling_function=labeling_functions,\n",
    "    window_size='1h',\n",
    ")"
   ]
  },
  {
   "cell_type": "code",
   "execution_count": null,
   "metadata": {},
   "outputs": [],
   "source": [
    "lt = lm.search(\n",
    "    df.sort_values('transaction_time'),\n",
    "    num_examples_per_instance=3,\n",
    "    verbose=False,\n",
    ")\n",
    "\n",
    "lt.head()"
   ]
  },
  {
   "cell_type": "code",
   "execution_count": null,
   "metadata": {},
   "outputs": [],
   "source": [
    "lt.select('favorite_brand').head()"
   ]
  }
 ],
 "metadata": {
  "kernelspec": {
   "display_name": "Python 3",
   "language": "python",
   "name": "python3"
  },
  "language_info": {
   "codemirror_mode": {
    "name": "ipython",
    "version": 3
   },
   "file_extension": ".py",
   "mimetype": "text/x-python",
   "name": "python",
   "nbconvert_exporter": "python",
   "pygments_lexer": "ipython3",
   "version": "3.7.5"
  }
 },
 "nbformat": 4,
 "nbformat_minor": 4
}
