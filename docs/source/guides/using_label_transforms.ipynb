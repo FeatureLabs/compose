{
 "cells": [
  {
   "cell_type": "raw",
   "metadata": {
    "raw_mimetype": "text/restructuredtext"
   },
   "source": [
    ".. currentmodule:: composeml\n",
    "\n",
    "======================\n",
    "Using Label Transforms\n",
    "======================\n",
    "\n",
    "In this guide, we will demonstrate how to use the transforms that are available on :class:`LabelTimes`.\n",
    "\n",
    "Generate Labels\n",
    "===============\n",
    "\n",
    "Lets start by generating labels on a mock dataset of transactions. Each label is defined as the total spent by a customer given one hour of transactions."
   ]
  },
  {
   "cell_type": "code",
   "execution_count": null,
   "metadata": {},
   "outputs": [],
   "source": [
    "from composeml import datasets, LabelMaker, LabelTimes\n",
    "\n",
    "def total_spent(df):\n",
    "    return df['amount'].sum()\n",
    "\n",
    "label_maker = LabelMaker(\n",
    "    labeling_function=total_spent,\n",
    "    target_entity='customer_id',\n",
    "    time_index='transaction_time',\n",
    "    window_size='1h',\n",
    ")\n",
    "\n",
    "labels = label_maker.search(\n",
    "    datasets.transactions(),\n",
    "    num_examples_per_instance=10,\n",
    "    minimum_data='2h',\n",
    "    gap='2min',\n",
    "    verbose=True,\n",
    ")"
   ]
  },
  {
   "cell_type": "raw",
   "metadata": {
    "raw_mimetype": "text/restructuredtext"
   },
   "source": [
    "To get an idea on how the labels looks, we preview the data frame. "
   ]
  },
  {
   "cell_type": "code",
   "execution_count": null,
   "metadata": {},
   "outputs": [],
   "source": [
    "labels.head()"
   ]
  },
  {
   "cell_type": "raw",
   "metadata": {
    "raw_mimetype": "text/restructuredtext"
   },
   "source": [
    "Threshold on Labels\n",
    "===================\n",
    "\n",
    ":meth:`LabelTimes.threshold` will create binary labels by testing if label values are above a threshold. In this example, we apply a threshold to determine which customers spent over 100."
   ]
  },
  {
   "cell_type": "code",
   "execution_count": null,
   "metadata": {},
   "outputs": [],
   "source": [
    "labels.threshold(100).head()"
   ]
  },
  {
   "cell_type": "raw",
   "metadata": {
    "raw_mimetype": "text/restructuredtext"
   },
   "source": [
    "Lead Labels Times\n",
    "=================\n",
    "\n",
    ":meth:`LabelTimes.apply_lead` will shift the label time earlier. This is useful for training a model to predict in advance. In this example, we apply a one hour lead on the label times."
   ]
  },
  {
   "cell_type": "code",
   "execution_count": null,
   "metadata": {},
   "outputs": [],
   "source": [
    "labels.apply_lead('1h').head()"
   ]
  },
  {
   "cell_type": "raw",
   "metadata": {
    "raw_mimetype": "text/restructuredtext"
   },
   "source": [
    "Bin Labels\n",
    "==========\n",
    "\n",
    ":meth:`LabelTimes.bin` will bin the labels into discrete intervals. There are three different kinds of bins which we will go through in the following examples.\n",
    "\n",
    "\n",
    "Quantile Bins\n",
    "-------------\n",
    "\n",
    "Labels could be grouped into bins using quantiles. To use, set :code:`quantiles` to :code:`True`. In this example, the total spent is grouped into *quartile* bins by passing in the number four."
   ]
  },
  {
   "cell_type": "code",
   "execution_count": null,
   "metadata": {},
   "outputs": [],
   "source": [
    "labels.bin(4, quantiles=True).head()"
   ]
  },
  {
   "cell_type": "raw",
   "metadata": {
    "raw_mimetype": "text/restructuredtext"
   },
   "source": [
    "This could also be done with an array of quantiles."
   ]
  },
  {
   "cell_type": "code",
   "execution_count": null,
   "metadata": {},
   "outputs": [],
   "source": [
    "quartiles = [0, .25, .5, .75, 1]\n",
    "labels.bin(quartiles, quantiles=True).head()"
   ]
  },
  {
   "cell_type": "raw",
   "metadata": {
    "raw_mimetype": "text/restructuredtext"
   },
   "source": [
    "To verify the quartile values, we could check the descriptive statistics."
   ]
  },
  {
   "cell_type": "code",
   "execution_count": null,
   "metadata": {},
   "outputs": [],
   "source": [
    "stats = labels.total_spent.describe()\n",
    "stats = stats.round(3).to_string()\n",
    "print(stats)"
   ]
  },
  {
   "cell_type": "raw",
   "metadata": {
    "raw_mimetype": "text/restructuredtext"
   },
   "source": [
    "Equal-Width Bins\n",
    "----------------\n",
    "\n",
    "Labels could also be grouped into bins of equal-widths. To use, :code:`quantiles` should be :code:`False` which is the default value. In this example, the total spent is grouped into four bins of equal-widths."
   ]
  },
  {
   "cell_type": "code",
   "execution_count": null,
   "metadata": {},
   "outputs": [],
   "source": [
    "labels.bin(4, quantiles=False).head()"
   ]
  },
  {
   "cell_type": "raw",
   "metadata": {
    "raw_mimetype": "text/restructuredtext"
   },
   "source": [
    "Custom-Width Bins\n",
    "-----------------\n",
    "\n",
    "Labels could also be grouped into bins of custom-widths. To use, pass in bin edges as an array. In this example, the total spent is grouped into four bins of custom-widths."
   ]
  },
  {
   "cell_type": "code",
   "execution_count": null,
   "metadata": {},
   "outputs": [],
   "source": [
    "inf = float('inf')\n",
    "edges = [-inf, 34, 50, 67, inf]\n",
    "labels.bin(edges, quantiles=False,).head()"
   ]
  },
  {
   "cell_type": "raw",
   "metadata": {
    "raw_mimetype": "text/restructuredtext"
   },
   "source": [
    "Label Bins\n",
    "----------\n",
    "\n",
    "Bins could be assigned with custom labels. To use, set :code:`labels` to an array of values. The number of labels need to match the number of bins. In this example, the total spent is grouped into three labeled bins."
   ]
  },
  {
   "cell_type": "code",
   "execution_count": null,
   "metadata": {},
   "outputs": [],
   "source": [
    "values = ['low', 'medium', 'high']\n",
    "labels.bin(3, labels=values).head()"
   ]
  }
 ],
 "metadata": {
  "celltoolbar": "Raw Cell Format",
  "kernelspec": {
   "display_name": "Python 3",
   "language": "python",
   "name": "python3"
  },
  "language_info": {
   "codemirror_mode": {
    "name": "ipython",
    "version": 3
   },
   "file_extension": ".py",
   "mimetype": "text/x-python",
   "name": "python",
   "nbconvert_exporter": "python",
   "pygments_lexer": "ipython3",
   "version": "3.7.1"
  }
 },
 "nbformat": 4,
 "nbformat_minor": 2
}
