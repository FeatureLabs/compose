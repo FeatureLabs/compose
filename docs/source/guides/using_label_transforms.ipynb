{
 "cells": [
  {
   "cell_type": "raw",
   "metadata": {
    "raw_mimetype": "text/restructuredtext"
   },
   "source": [
    ".. currentmodule:: composeml\n",
    "\n",
    "======================\n",
    "Using Label Transforms\n",
    "======================\n",
    "\n",
    "In this guide, we will demonstrate how to use the transforms that are available on :class:`LabelTimes`.\n",
    "\n",
    "Generate Labels\n",
    "---------------\n",
    "\n",
    "Lets start by generating labels on a mock dataset of transactions. Each label is defined as the total spent by a customer given one hour of transactions."
   ]
  },
  {
   "cell_type": "code",
   "execution_count": null,
   "metadata": {},
   "outputs": [],
   "source": [
    "from composeml import datasets, LabelMaker, LabelTimes\n",
    "\n",
    "def total_spent(df):\n",
    "    return df['amount'].sum()\n",
    "\n",
    "label_maker = LabelMaker(\n",
    "    labeling_function=total_spent,\n",
    "    target_entity='customer_id',\n",
    "    time_index='transaction_time',\n",
    "    window_size='1h',\n",
    ")\n",
    "\n",
    "labels = label_maker.search(\n",
    "    datasets.transactions(),\n",
    "    num_examples_per_instance=10,\n",
    "    minimum_data='2h',\n",
    "    gap='2min',\n",
    "    verbose=True,\n",
    ")"
   ]
  },
  {
   "cell_type": "raw",
   "metadata": {
    "raw_mimetype": "text/restructuredtext"
   },
   "source": [
    "To get an idea on how the labels looks, we preview the data frame. "
   ]
  },
  {
   "cell_type": "code",
   "execution_count": null,
   "metadata": {},
   "outputs": [],
   "source": [
    "labels.head()"
   ]
  },
  {
   "cell_type": "raw",
   "metadata": {
    "raw_mimetype": "text/restructuredtext"
   },
   "source": [
    "Apply Threshold on Labels\n",
    "-------------------------\n",
    "\n",
    "We could create binary labels to classify customers who spent more than a specific amount by using :meth:`LabelTimes.threshold`. In this example, we apply a threshold for total amounts over 100."
   ]
  },
  {
   "cell_type": "code",
   "execution_count": null,
   "metadata": {},
   "outputs": [],
   "source": [
    "labels.threshold(100).head()"
   ]
  },
  {
   "cell_type": "raw",
   "metadata": {
    "raw_mimetype": "text/restructuredtext"
   },
   "source": [
    "Lead Labels Times\n",
    "-----------------\n",
    "\n",
    "We could also shift the label time earlier by using :meth:`LabelTimes.apply_lead`. This is useful for training a model to predict in advance. In this example, we apply a one hour lead on the label times."
   ]
  },
  {
   "cell_type": "code",
   "execution_count": null,
   "metadata": {},
   "outputs": [],
   "source": [
    "labels.apply_lead('1h').head()"
   ]
  },
  {
   "cell_type": "raw",
   "metadata": {
    "raw_mimetype": "text/restructuredtext"
   },
   "source": [
    "Bin Labels\n",
    "----------\n",
    "\n",
    "Equal Widths\n",
    "~~~~~~~~~~~~"
   ]
  }
 ],
 "metadata": {
  "celltoolbar": "Raw Cell Format",
  "kernelspec": {
   "display_name": "Python 3",
   "language": "python",
   "name": "python3"
  },
  "language_info": {
   "codemirror_mode": {
    "name": "ipython",
    "version": 3
   },
   "file_extension": ".py",
   "mimetype": "text/x-python",
   "name": "python",
   "nbconvert_exporter": "python",
   "pygments_lexer": "ipython3",
   "version": "3.7.1"
  }
 },
 "nbformat": 4,
 "nbformat_minor": 2
}
