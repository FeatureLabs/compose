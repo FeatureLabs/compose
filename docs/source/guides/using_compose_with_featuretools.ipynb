{
 "cells": [
  {
   "cell_type": "markdown",
   "metadata": {},
   "source": [
    "# Using Compose with Featuretools\n",
    "In this guide, we will generate a labeled feature matrix from a mock dataset of transactions using ComposeML and Featuretools. Then create a machine learning model for predicting whether customers will spend over x in the next k of transactions.\n"
   ]
  },
  {
   "cell_type": "markdown",
   "metadata": {},
   "source": [
    "## Load Data"
   ]
  },
  {
   "cell_type": "code",
   "execution_count": null,
   "metadata": {},
   "outputs": [],
   "source": []
  },
  {
   "cell_type": "markdown",
   "metadata": {},
   "source": [
    "## Create Labels\n",
    "\n",
    "### Define Labeling Function\n",
    "\n",
    "### Construct Label Maker\n",
    "\n",
    "### Generate Labels\n",
    "\n",
    "## Create Entity Set\n",
    "\n",
    "### Construct Entity Set\n",
    "\n",
    "### Normalize Target Entity\n",
    "\n",
    "### Normalize Non-Target Entities\n",
    "\n",
    "## Create Feature Matrix\n",
    "\n",
    "### Generate Feature Matrix\n",
    "\n",
    "### Split Feature Matrix\n",
    "\n",
    "## Create Model\n",
    "\n",
    "### Construct Model\n",
    "\n",
    "### Train Model\n",
    "\n",
    "### Test Model\n"
   ]
  }
 ],
 "metadata": {
  "kernelspec": {
   "display_name": "Python 3",
   "language": "python",
   "name": "python3"
  },
  "language_info": {
   "codemirror_mode": {
    "name": "ipython",
    "version": 3
   },
   "file_extension": ".py",
   "mimetype": "text/x-python",
   "name": "python",
   "nbconvert_exporter": "python",
   "pygments_lexer": "ipython3",
   "version": "3.5.6"
  }
 },
 "nbformat": 4,
 "nbformat_minor": 2
}
