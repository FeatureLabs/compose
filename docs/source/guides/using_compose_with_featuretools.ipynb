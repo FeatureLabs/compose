{
 "cells": [
  {
   "cell_type": "markdown",
   "metadata": {},
   "source": [
    "# Using Compose with Featuretools\n",
    "In this guide, we will generate a labeled feature matrix from a mock dataset of transactions using ComposeML and Featuretools. Then create a machine learning model for predicting whether customers will spend over $750 within the next 15 minutes.\n",
    "\n",
    "## Load Data"
   ]
  },
  {
   "cell_type": "code",
   "execution_count": 1,
   "metadata": {},
   "outputs": [
    {
     "data": {
      "text/html": [
       "<div>\n",
       "<style scoped>\n",
       "    .dataframe tbody tr th:only-of-type {\n",
       "        vertical-align: middle;\n",
       "    }\n",
       "\n",
       "    .dataframe tbody tr th {\n",
       "        vertical-align: top;\n",
       "    }\n",
       "\n",
       "    .dataframe thead th {\n",
       "        text-align: right;\n",
       "    }\n",
       "</style>\n",
       "<table border=\"1\" class=\"dataframe\">\n",
       "  <thead>\n",
       "    <tr style=\"text-align: right;\">\n",
       "      <th></th>\n",
       "      <th>transaction_id</th>\n",
       "      <th>session_id</th>\n",
       "      <th>transaction_time</th>\n",
       "      <th>product_id</th>\n",
       "      <th>amount</th>\n",
       "    </tr>\n",
       "  </thead>\n",
       "  <tbody>\n",
       "    <tr>\n",
       "      <th>0</th>\n",
       "      <td>298</td>\n",
       "      <td>1</td>\n",
       "      <td>2014-01-01 00:00:00</td>\n",
       "      <td>5</td>\n",
       "      <td>127.64</td>\n",
       "    </tr>\n",
       "    <tr>\n",
       "      <th>1</th>\n",
       "      <td>10</td>\n",
       "      <td>1</td>\n",
       "      <td>2014-01-01 00:09:45</td>\n",
       "      <td>5</td>\n",
       "      <td>57.39</td>\n",
       "    </tr>\n",
       "    <tr>\n",
       "      <th>2</th>\n",
       "      <td>495</td>\n",
       "      <td>1</td>\n",
       "      <td>2014-01-01 00:14:05</td>\n",
       "      <td>5</td>\n",
       "      <td>69.45</td>\n",
       "    </tr>\n",
       "    <tr>\n",
       "      <th>3</th>\n",
       "      <td>460</td>\n",
       "      <td>10</td>\n",
       "      <td>2014-01-01 02:33:50</td>\n",
       "      <td>5</td>\n",
       "      <td>123.19</td>\n",
       "    </tr>\n",
       "    <tr>\n",
       "      <th>4</th>\n",
       "      <td>302</td>\n",
       "      <td>10</td>\n",
       "      <td>2014-01-01 02:37:05</td>\n",
       "      <td>5</td>\n",
       "      <td>64.47</td>\n",
       "    </tr>\n",
       "  </tbody>\n",
       "</table>\n",
       "</div>"
      ],
      "text/plain": [
       "   transaction_id  session_id    transaction_time product_id  amount\n",
       "0             298           1 2014-01-01 00:00:00          5  127.64\n",
       "1              10           1 2014-01-01 00:09:45          5   57.39\n",
       "2             495           1 2014-01-01 00:14:05          5   69.45\n",
       "3             460          10 2014-01-01 02:33:50          5  123.19\n",
       "4             302          10 2014-01-01 02:37:05          5   64.47"
      ]
     },
     "execution_count": 1,
     "metadata": {},
     "output_type": "execute_result"
    }
   ],
   "source": [
    "import featuretools as ft\n",
    "\n",
    "transactions = ft.demo.load_mock_customer(\n",
    "    return_single_table=True,\n",
    "    random_seed=0,\n",
    ")\n",
    "\n",
    "transactions[transactions.columns[:5]].head()"
   ]
  },
  {
   "cell_type": "markdown",
   "metadata": {},
   "source": [
    "## Create Labels\n",
    "\n",
    "### Define Labeling Function"
   ]
  },
  {
   "cell_type": "code",
   "execution_count": 2,
   "metadata": {},
   "outputs": [],
   "source": [
    "def my_labeling_function(df_slice):\n",
    "    label = df_slice[\"amount\"].sum()\n",
    "    return label"
   ]
  },
  {
   "cell_type": "markdown",
   "metadata": {},
   "source": [
    "### Construct Label Maker"
   ]
  },
  {
   "cell_type": "code",
   "execution_count": 3,
   "metadata": {},
   "outputs": [],
   "source": [
    "from composeml import LabelMaker\n",
    "\n",
    "label_maker = LabelMaker(\n",
    "    target_entity='customer_id',\n",
    "    time_index='transaction_time',\n",
    "    labeling_function=my_labeling_function,\n",
    "    window_size='15min',\n",
    ")"
   ]
  },
  {
   "cell_type": "markdown",
   "metadata": {},
   "source": [
    "### Generate Labels"
   ]
  },
  {
   "cell_type": "code",
   "execution_count": 4,
   "metadata": {},
   "outputs": [
    {
     "name": "stderr",
     "output_type": "stream",
     "text": [
      "Elapsed: 00:00 | Remaining: 00:00 | Progress: 100%|████████████████████| customer_id: 5/5 "
     ]
    },
    {
     "name": "stdout",
     "output_type": "stream",
     "text": [
      "Label Distribution\n",
      "------------------\n",
      "False     111\n",
      "True      105\n",
      "Total:    216\n",
      "\n",
      "\n",
      "Settings\n",
      "--------\n",
      "gap                           2min\n",
      "minimum_data                 15min\n",
      "num_examples_per_instance       50\n",
      "window_size                  15min\n",
      "\n",
      "\n",
      "Transforms\n",
      "----------\n",
      "1. threshold\n",
      "  - value:    750\n",
      "\n"
     ]
    },
    {
     "name": "stderr",
     "output_type": "stream",
     "text": [
      "\n"
     ]
    }
   ],
   "source": [
    "labels = label_maker.search(\n",
    "    transactions,\n",
    "    minimum_data='15min',\n",
    "    num_examples_per_instance=50,\n",
    "    gap='2min',\n",
    ")\n",
    "\n",
    "labels = labels.threshold(750)\n",
    "\n",
    "labels.describe()"
   ]
  },
  {
   "cell_type": "markdown",
   "metadata": {},
   "source": [
    "\n",
    "## Create Entity Set\n",
    "\n",
    "### Construct Entity Set"
   ]
  },
  {
   "cell_type": "code",
   "execution_count": 5,
   "metadata": {},
   "outputs": [
    {
     "data": {
      "text/plain": [
       "Entityset: transactions\n",
       "  Entities:\n",
       "    transactions [Rows: 500, Columns: 12]\n",
       "  Relationships:\n",
       "    No relationships"
      ]
     },
     "execution_count": 5,
     "metadata": {},
     "output_type": "execute_result"
    }
   ],
   "source": [
    "es = ft.EntitySet('transactions')\n",
    "\n",
    "es.entity_from_dataframe(\n",
    "    'transactions',\n",
    "    transactions,\n",
    "    index='transaction_id',\n",
    "    time_index='transaction_time',\n",
    ")"
   ]
  },
  {
   "cell_type": "markdown",
   "metadata": {},
   "source": [
    "### Normalize Entities"
   ]
  },
  {
   "cell_type": "code",
   "execution_count": 6,
   "metadata": {},
   "outputs": [],
   "source": [
    "es.normalize_entity(\n",
    "    base_entity_id='transactions',\n",
    "    new_entity_id='sessions',\n",
    "    index='session_id',\n",
    "    make_time_index='session_start',\n",
    "    additional_variables=[\n",
    "        'device',\n",
    "        'customer_id',\n",
    "        'zip_code',\n",
    "        'session_start',\n",
    "        'join_date',\n",
    "        'date_of_birth',\n",
    "    ],\n",
    ")\n",
    "\n",
    "es.normalize_entity(\n",
    "    base_entity_id='sessions',\n",
    "    new_entity_id='customers',\n",
    "    index='customer_id',\n",
    "    make_time_index='join_date',\n",
    "    additional_variables=[\n",
    "        'zip_code',\n",
    "        'join_date',\n",
    "        'date_of_birth',\n",
    "    ],\n",
    ")\n",
    "\n",
    "es.normalize_entity(\n",
    "    base_entity_id='transactions',\n",
    "    new_entity_id='products',\n",
    "    index='product_id',\n",
    "    additional_variables=['brand'],\n",
    "    make_time_index=False,\n",
    ")\n",
    "\n",
    "es.add_last_time_indexes()"
   ]
  },
  {
   "cell_type": "markdown",
   "metadata": {},
   "source": [
    "### Plot Entity Set"
   ]
  },
  {
   "cell_type": "code",
   "execution_count": 7,
   "metadata": {},
   "outputs": [
    {
     "data": {
      "image/svg+xml": [
       "<?xml version=\"1.0\" encoding=\"UTF-8\" standalone=\"no\"?>\n",
       "<!DOCTYPE svg PUBLIC \"-//W3C//DTD SVG 1.1//EN\"\n",
       " \"http://www.w3.org/Graphics/SVG/1.1/DTD/svg11.dtd\">\n",
       "<!-- Generated by graphviz version 2.40.1 (20161225.0304)\n",
       " -->\n",
       "<!-- Title: transactions Pages: 1 -->\n",
       "<svg width=\"454pt\" height=\"371pt\"\n",
       " viewBox=\"0.00 0.00 453.50 371.00\" xmlns=\"http://www.w3.org/2000/svg\" xmlns:xlink=\"http://www.w3.org/1999/xlink\">\n",
       "<g id=\"graph0\" class=\"graph\" transform=\"scale(1 1) rotate(0) translate(4 367)\">\n",
       "<title>transactions</title>\n",
       "<polygon fill=\"#ffffff\" stroke=\"transparent\" points=\"-4,4 -4,-367 449.5,-367 449.5,4 -4,4\"/>\n",
       "<!-- customers -->\n",
       "<g id=\"node1\" class=\"node\">\n",
       "<title>customers</title>\n",
       "<polygon fill=\"none\" stroke=\"#000000\" points=\"185.5,-.5 185.5,-91.5 430.5,-91.5 430.5,-.5 185.5,-.5\"/>\n",
       "<text text-anchor=\"middle\" x=\"308\" y=\"-76.3\" font-family=\"Times,serif\" font-size=\"14.00\" fill=\"#000000\">customers</text>\n",
       "<polyline fill=\"none\" stroke=\"#000000\" points=\"185.5,-68.5 430.5,-68.5 \"/>\n",
       "<text text-anchor=\"start\" x=\"193.5\" y=\"-53.3\" font-family=\"Times,serif\" font-size=\"14.00\" fill=\"#000000\">customer_id : index</text>\n",
       "<text text-anchor=\"start\" x=\"193.5\" y=\"-38.3\" font-family=\"Times,serif\" font-size=\"14.00\" fill=\"#000000\">zip_code : categorical</text>\n",
       "<text text-anchor=\"start\" x=\"193.5\" y=\"-23.3\" font-family=\"Times,serif\" font-size=\"14.00\" fill=\"#000000\">date_of_birth : datetime</text>\n",
       "<text text-anchor=\"start\" x=\"193.5\" y=\"-8.3\" font-family=\"Times,serif\" font-size=\"14.00\" fill=\"#000000\">join_date : datetime_time_index</text>\n",
       "</g>\n",
       "<!-- products -->\n",
       "<g id=\"node2\" class=\"node\">\n",
       "<title>products</title>\n",
       "<polygon fill=\"none\" stroke=\"#000000\" points=\"0,-143.5 0,-204.5 152,-204.5 152,-143.5 0,-143.5\"/>\n",
       "<text text-anchor=\"middle\" x=\"76\" y=\"-189.3\" font-family=\"Times,serif\" font-size=\"14.00\" fill=\"#000000\">products</text>\n",
       "<polyline fill=\"none\" stroke=\"#000000\" points=\"0,-181.5 152,-181.5 \"/>\n",
       "<text text-anchor=\"start\" x=\"8\" y=\"-166.3\" font-family=\"Times,serif\" font-size=\"14.00\" fill=\"#000000\">product_id : index</text>\n",
       "<text text-anchor=\"start\" x=\"8\" y=\"-151.3\" font-family=\"Times,serif\" font-size=\"14.00\" fill=\"#000000\">brand : categorical</text>\n",
       "</g>\n",
       "<!-- transactions -->\n",
       "<g id=\"node3\" class=\"node\">\n",
       "<title>transactions</title>\n",
       "<polygon fill=\"none\" stroke=\"#000000\" points=\"41,-256.5 41,-362.5 343,-362.5 343,-256.5 41,-256.5\"/>\n",
       "<text text-anchor=\"middle\" x=\"192\" y=\"-347.3\" font-family=\"Times,serif\" font-size=\"14.00\" fill=\"#000000\">transactions</text>\n",
       "<polyline fill=\"none\" stroke=\"#000000\" points=\"41,-339.5 343,-339.5 \"/>\n",
       "<text text-anchor=\"start\" x=\"49\" y=\"-324.3\" font-family=\"Times,serif\" font-size=\"14.00\" fill=\"#000000\">transaction_id : index</text>\n",
       "<text text-anchor=\"start\" x=\"49\" y=\"-309.3\" font-family=\"Times,serif\" font-size=\"14.00\" fill=\"#000000\">session_id : id</text>\n",
       "<text text-anchor=\"start\" x=\"49\" y=\"-294.3\" font-family=\"Times,serif\" font-size=\"14.00\" fill=\"#000000\">amount : numeric</text>\n",
       "<text text-anchor=\"start\" x=\"49\" y=\"-279.3\" font-family=\"Times,serif\" font-size=\"14.00\" fill=\"#000000\">product_id : id</text>\n",
       "<text text-anchor=\"start\" x=\"49\" y=\"-264.3\" font-family=\"Times,serif\" font-size=\"14.00\" fill=\"#000000\">transaction_time : datetime_time_index</text>\n",
       "</g>\n",
       "<!-- transactions&#45;&gt;products -->\n",
       "<g id=\"edge3\" class=\"edge\">\n",
       "<title>transactions&#45;&gt;products</title>\n",
       "<path fill=\"none\" stroke=\"#000000\" d=\"M96.5,-256.3357C96.5,-256.3357 96.5,-214.7285 96.5,-214.7285\"/>\n",
       "<polygon fill=\"#000000\" stroke=\"#000000\" points=\"100.0001,-214.7285 96.5,-204.7285 93.0001,-214.7286 100.0001,-214.7285\"/>\n",
       "<text text-anchor=\"middle\" x=\"57.5\" y=\"-239.3321\" font-family=\"Times,serif\" font-size=\"14.00\" fill=\"#000000\">product_id</text>\n",
       "</g>\n",
       "<!-- sessions -->\n",
       "<g id=\"node4\" class=\"node\">\n",
       "<title>sessions</title>\n",
       "<polygon fill=\"none\" stroke=\"#000000\" points=\"170.5,-128.5 170.5,-219.5 445.5,-219.5 445.5,-128.5 170.5,-128.5\"/>\n",
       "<text text-anchor=\"middle\" x=\"308\" y=\"-204.3\" font-family=\"Times,serif\" font-size=\"14.00\" fill=\"#000000\">sessions</text>\n",
       "<polyline fill=\"none\" stroke=\"#000000\" points=\"170.5,-196.5 445.5,-196.5 \"/>\n",
       "<text text-anchor=\"start\" x=\"178.5\" y=\"-181.3\" font-family=\"Times,serif\" font-size=\"14.00\" fill=\"#000000\">session_id : index</text>\n",
       "<text text-anchor=\"start\" x=\"178.5\" y=\"-166.3\" font-family=\"Times,serif\" font-size=\"14.00\" fill=\"#000000\">device : categorical</text>\n",
       "<text text-anchor=\"start\" x=\"178.5\" y=\"-151.3\" font-family=\"Times,serif\" font-size=\"14.00\" fill=\"#000000\">session_start : datetime_time_index</text>\n",
       "<text text-anchor=\"start\" x=\"178.5\" y=\"-136.3\" font-family=\"Times,serif\" font-size=\"14.00\" fill=\"#000000\">customer_id : id</text>\n",
       "</g>\n",
       "<!-- transactions&#45;&gt;sessions -->\n",
       "<g id=\"edge1\" class=\"edge\">\n",
       "<title>transactions&#45;&gt;sessions</title>\n",
       "<path fill=\"none\" stroke=\"#000000\" d=\"M256.75,-256.3357C256.75,-256.3357 256.75,-229.5525 256.75,-229.5525\"/>\n",
       "<polygon fill=\"#000000\" stroke=\"#000000\" points=\"260.2501,-229.5525 256.75,-219.5525 253.2501,-229.5525 260.2501,-229.5525\"/>\n",
       "<text text-anchor=\"middle\" x=\"219.75\" y=\"-231.7441\" font-family=\"Times,serif\" font-size=\"14.00\" fill=\"#000000\">session_id</text>\n",
       "</g>\n",
       "<!-- sessions&#45;&gt;customers -->\n",
       "<g id=\"edge2\" class=\"edge\">\n",
       "<title>sessions&#45;&gt;customers</title>\n",
       "<path fill=\"none\" stroke=\"#000000\" d=\"M308,-128.1506C308,-128.1506 308,-101.5293 308,-101.5293\"/>\n",
       "<polygon fill=\"#000000\" stroke=\"#000000\" points=\"311.5001,-101.5292 308,-91.5293 304.5001,-101.5293 311.5001,-101.5292\"/>\n",
       "<text text-anchor=\"middle\" x=\"263.5\" y=\"-103.6399\" font-family=\"Times,serif\" font-size=\"14.00\" fill=\"#000000\">customer_id</text>\n",
       "</g>\n",
       "</g>\n",
       "</svg>\n"
      ],
      "text/plain": [
       "<graphviz.dot.Digraph at 0x7f88600c3160>"
      ]
     },
     "execution_count": 7,
     "metadata": {},
     "output_type": "execute_result"
    }
   ],
   "source": [
    "es.plot()"
   ]
  },
  {
   "cell_type": "markdown",
   "metadata": {},
   "source": [
    "## Create Feature Matrix\n",
    "\n",
    "### Generate Feature Matrix"
   ]
  },
  {
   "cell_type": "code",
   "execution_count": 8,
   "metadata": {},
   "outputs": [
    {
     "name": "stdout",
     "output_type": "stream",
     "text": [
      "Built 63 features\n",
      "Elapsed: 01:23 | Remaining: 00:00 | Progress: 100%|██████████| Calculated: 11/11 chunks\n"
     ]
    }
   ],
   "source": [
    "feature_matrix, fd = ft.dfs(\n",
    "    entityset=es,\n",
    "    target_entity='customers',\n",
    "    agg_primitives=[\n",
    "        'min',\n",
    "        'mean',\n",
    "        'max',\n",
    "        'sum',\n",
    "        'std',\n",
    "        'trend',\n",
    "    ],\n",
    "    trans_primitives=[\n",
    "        'cum_min',\n",
    "        'cum_mean',\n",
    "        'cum_max',\n",
    "        'cum_sum',\n",
    "    ],\n",
    "    cutoff_time=labels,\n",
    "    cutoff_time_in_index=True,\n",
    "    verbose=True,\n",
    ")"
   ]
  },
  {
   "cell_type": "markdown",
   "metadata": {},
   "source": [
    "### Split Feature Matrix"
   ]
  },
  {
   "cell_type": "code",
   "execution_count": 9,
   "metadata": {},
   "outputs": [
    {
     "name": "stdout",
     "output_type": "stream",
     "text": [
      "Train Set\n",
      "----------\n",
      "x: (172, 63)\n",
      "y: (172,)\n",
      "\n",
      "Test Set\n",
      "----------\n",
      "x: (44, 63)\n",
      "y: (44,)\n"
     ]
    }
   ],
   "source": [
    "from sklearn.model_selection import train_test_split\n",
    "\n",
    "feature_matrix = feature_matrix.fillna(0)\n",
    "\n",
    "x_train, x_test = train_test_split(\n",
    "    feature_matrix,\n",
    "    train_size=.8,\n",
    "    test_size=.2,\n",
    ")\n",
    "\n",
    "y_train = x_train.pop(labels.name)\n",
    "y_test = x_test.pop(labels.name)\n",
    "\n",
    "\n",
    "info = '{} Set\\n' + '-' * 10 + '\\nx: {}\\ny: {}'\n",
    "print(info.format('Train', x_train.shape, y_train.shape), end='\\n\\n')\n",
    "print(info.format('Test', x_test.shape, y_test.shape))"
   ]
  },
  {
   "cell_type": "markdown",
   "metadata": {},
   "source": [
    "## Create Model\n",
    "\n",
    "### Construct Model"
   ]
  },
  {
   "cell_type": "code",
   "execution_count": 10,
   "metadata": {},
   "outputs": [],
   "source": [
    "from sklearn.ensemble import RandomForestClassifier\n",
    "\n",
    "clf = RandomForestClassifier(n_estimators=10)"
   ]
  },
  {
   "cell_type": "markdown",
   "metadata": {},
   "source": [
    "### Train Model"
   ]
  },
  {
   "cell_type": "code",
   "execution_count": 11,
   "metadata": {},
   "outputs": [
    {
     "data": {
      "text/plain": [
       "RandomForestClassifier(bootstrap=True, class_weight=None, criterion='gini',\n",
       "                       max_depth=None, max_features='auto', max_leaf_nodes=None,\n",
       "                       min_impurity_decrease=0.0, min_impurity_split=None,\n",
       "                       min_samples_leaf=1, min_samples_split=2,\n",
       "                       min_weight_fraction_leaf=0.0, n_estimators=10,\n",
       "                       n_jobs=None, oob_score=False, random_state=None,\n",
       "                       verbose=0, warm_start=False)"
      ]
     },
     "execution_count": 11,
     "metadata": {},
     "output_type": "execute_result"
    }
   ],
   "source": [
    "clf.fit(x_train, y_train)"
   ]
  },
  {
   "cell_type": "markdown",
   "metadata": {},
   "source": [
    "### Test Model"
   ]
  },
  {
   "cell_type": "code",
   "execution_count": 12,
   "metadata": {},
   "outputs": [
    {
     "name": "stdout",
     "output_type": "stream",
     "text": [
      "              precision    recall  f1-score   support\n",
      "\n",
      "       False       0.76      0.73      0.74        22\n",
      "        True       0.74      0.77      0.76        22\n",
      "\n",
      "    accuracy                           0.75        44\n",
      "   macro avg       0.75      0.75      0.75        44\n",
      "weighted avg       0.75      0.75      0.75        44\n",
      "\n"
     ]
    }
   ],
   "source": [
    "from sklearn.metrics import classification_report\n",
    "\n",
    "y_hat = clf.predict(x_test)\n",
    "\n",
    "print(classification_report(y_test, y_hat))"
   ]
  }
 ],
 "metadata": {
  "kernelspec": {
   "display_name": "Python 3",
   "language": "python",
   "name": "python3"
  },
  "language_info": {
   "codemirror_mode": {
    "name": "ipython",
    "version": 3
   },
   "file_extension": ".py",
   "mimetype": "text/x-python",
   "name": "python",
   "nbconvert_exporter": "python",
   "pygments_lexer": "ipython3",
   "version": "3.5.6"
  }
 },
 "nbformat": 4,
 "nbformat_minor": 2
}
