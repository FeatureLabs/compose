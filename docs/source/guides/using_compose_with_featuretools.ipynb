{
 "cells": [
  {
   "cell_type": "raw",
   "metadata": {
    "raw_mimetype": "text/restructuredtext"
   },
   "source": [
    "===============================\n",
    "Using Compose with Featuretools\n",
    "===============================\n",
    "\n",
    "In this guide, we will generate labels and features on a mock dataset of transactions using :mod:`composeml` and :mod:`featuretools`. Then create a machine learning model for predicting one hour in advance whether customers will spend over $1200 within the next hour of transactions."
   ]
  },
  {
   "cell_type": "code",
   "execution_count": 1,
   "metadata": {},
   "outputs": [],
   "source": [
    "import composeml\n",
    "import featuretools as ft\n",
    "from sklearn.model_selection import train_test_split\n",
    "from sklearn.ensemble import RandomForestClassifier\n",
    "from sklearn.metrics import classification_report"
   ]
  },
  {
   "cell_type": "raw",
   "metadata": {
    "raw_mimetype": "text/restructuredtext"
   },
   "source": [
    "Load Data\n",
    "=========\n",
    "\n",
    "To get an idea on how the transactions looks, we preview the data frame."
   ]
  },
  {
   "cell_type": "code",
   "execution_count": 2,
   "metadata": {
    "scrolled": true
   },
   "outputs": [
    {
     "data": {
      "text/html": [
       "<div>\n",
       "<style scoped>\n",
       "    .dataframe tbody tr th:only-of-type {\n",
       "        vertical-align: middle;\n",
       "    }\n",
       "\n",
       "    .dataframe tbody tr th {\n",
       "        vertical-align: top;\n",
       "    }\n",
       "\n",
       "    .dataframe thead th {\n",
       "        text-align: right;\n",
       "    }\n",
       "</style>\n",
       "<table border=\"1\" class=\"dataframe\">\n",
       "  <thead>\n",
       "    <tr style=\"text-align: right;\">\n",
       "      <th></th>\n",
       "      <th>transaction_id</th>\n",
       "      <th>session_id</th>\n",
       "      <th>transaction_time</th>\n",
       "      <th>product_id</th>\n",
       "      <th>amount</th>\n",
       "      <th>customer_id</th>\n",
       "      <th>device</th>\n",
       "    </tr>\n",
       "  </thead>\n",
       "  <tbody>\n",
       "    <tr>\n",
       "      <th>0</th>\n",
       "      <td>298</td>\n",
       "      <td>1</td>\n",
       "      <td>2014-01-01 00:00:00</td>\n",
       "      <td>5</td>\n",
       "      <td>127.64</td>\n",
       "      <td>2</td>\n",
       "      <td>desktop</td>\n",
       "    </tr>\n",
       "    <tr>\n",
       "      <th>1</th>\n",
       "      <td>10</td>\n",
       "      <td>1</td>\n",
       "      <td>2014-01-01 00:09:45</td>\n",
       "      <td>5</td>\n",
       "      <td>57.39</td>\n",
       "      <td>2</td>\n",
       "      <td>desktop</td>\n",
       "    </tr>\n",
       "    <tr>\n",
       "      <th>2</th>\n",
       "      <td>495</td>\n",
       "      <td>1</td>\n",
       "      <td>2014-01-01 00:14:05</td>\n",
       "      <td>5</td>\n",
       "      <td>69.45</td>\n",
       "      <td>2</td>\n",
       "      <td>desktop</td>\n",
       "    </tr>\n",
       "    <tr>\n",
       "      <th>3</th>\n",
       "      <td>460</td>\n",
       "      <td>10</td>\n",
       "      <td>2014-01-01 02:33:50</td>\n",
       "      <td>5</td>\n",
       "      <td>123.19</td>\n",
       "      <td>2</td>\n",
       "      <td>tablet</td>\n",
       "    </tr>\n",
       "    <tr>\n",
       "      <th>4</th>\n",
       "      <td>302</td>\n",
       "      <td>10</td>\n",
       "      <td>2014-01-01 02:37:05</td>\n",
       "      <td>5</td>\n",
       "      <td>64.47</td>\n",
       "      <td>2</td>\n",
       "      <td>tablet</td>\n",
       "    </tr>\n",
       "  </tbody>\n",
       "</table>\n",
       "</div>"
      ],
      "text/plain": [
       "   transaction_id  session_id    transaction_time product_id  amount  \\\n",
       "0             298           1 2014-01-01 00:00:00          5  127.64   \n",
       "1              10           1 2014-01-01 00:09:45          5   57.39   \n",
       "2             495           1 2014-01-01 00:14:05          5   69.45   \n",
       "3             460          10 2014-01-01 02:33:50          5  123.19   \n",
       "4             302          10 2014-01-01 02:37:05          5   64.47   \n",
       "\n",
       "   customer_id   device  \n",
       "0            2  desktop  \n",
       "1            2  desktop  \n",
       "2            2  desktop  \n",
       "3            2   tablet  \n",
       "4            2   tablet  "
      ]
     },
     "execution_count": 2,
     "metadata": {},
     "output_type": "execute_result"
    }
   ],
   "source": [
    "transactions = ft.demo.load_mock_customer(\n",
    "    return_single_table=True,\n",
    "    random_seed=0,\n",
    ")\n",
    "\n",
    "transactions[transactions.columns[:7]].head()"
   ]
  },
  {
   "cell_type": "raw",
   "metadata": {
    "raw_mimetype": "text/restructuredtext"
   },
   "source": [
    "Generate Labels\n",
    "===============\n",
    "\n",
    "Now with the transactions loaded, we are ready to generate labels for our prediction problem.\n",
    "\n",
    "\n",
    "Create Labeling Function\n",
    "------------------------\n",
    "\n",
    "First, we define the function that will return the total purchase amount given a hour of transactions."
   ]
  },
  {
   "cell_type": "code",
   "execution_count": 3,
   "metadata": {},
   "outputs": [],
   "source": [
    "def total_spent(df_slice):\n",
    "    label = df_slice[\"amount\"].sum()\n",
    "    return label"
   ]
  },
  {
   "cell_type": "raw",
   "metadata": {
    "raw_mimetype": "text/restructuredtext"
   },
   "source": [
    ".. currentmodule:: composeml\n",
    "\n",
    "\n",
    "Construct Label Maker\n",
    "---------------------\n",
    "\n",
    "With our labeling function, we create the :class:`LabelMaker` for the transactions. The :code:`target_entity` is set to :code:`customer_id` so that the labels are generated for each customer. The :code:`window_size` is set to one hour to process one hour of transactions for a given customer."
   ]
  },
  {
   "cell_type": "code",
   "execution_count": 4,
   "metadata": {},
   "outputs": [],
   "source": [
    "label_maker = composeml.LabelMaker(\n",
    "    target_entity='customer_id',\n",
    "    time_index='transaction_time',\n",
    "    labeling_function=total_spent,\n",
    "    window_size='1h',\n",
    ")"
   ]
  },
  {
   "cell_type": "raw",
   "metadata": {
    "raw_mimetype": "text/restructuredtext"
   },
   "source": [
    "Create Labels\n",
    "-------------\n",
    "\n",
    "Next, we automatically search and extract the labels by using :meth:`LabelMaker.search`.\n",
    "\n",
    ".. seealso::\n",
    "    \n",
    "    For more details on how the label maker works, see :doc:`/main_concepts`."
   ]
  },
  {
   "cell_type": "code",
   "execution_count": 5,
   "metadata": {},
   "outputs": [
    {
     "name": "stderr",
     "output_type": "stream",
     "text": [
      "Elapsed: 00:00 | Remaining: 00:00 | Progress: 100%|████████████████████| customer_id: 5/5 \n"
     ]
    },
    {
     "data": {
      "text/html": [
       "<div>\n",
       "<style scoped>\n",
       "    .dataframe tbody tr th:only-of-type {\n",
       "        vertical-align: middle;\n",
       "    }\n",
       "\n",
       "    .dataframe tbody tr th {\n",
       "        vertical-align: top;\n",
       "    }\n",
       "\n",
       "    .dataframe thead th {\n",
       "        text-align: right;\n",
       "    }\n",
       "</style>\n",
       "<table border=\"1\" class=\"dataframe\">\n",
       "  <thead>\n",
       "    <tr style=\"text-align: right;\">\n",
       "      <th></th>\n",
       "      <th>customer_id</th>\n",
       "      <th>cutoff_time</th>\n",
       "      <th>total_spent</th>\n",
       "    </tr>\n",
       "    <tr>\n",
       "      <th>label_id</th>\n",
       "      <th></th>\n",
       "      <th></th>\n",
       "      <th></th>\n",
       "    </tr>\n",
       "  </thead>\n",
       "  <tbody>\n",
       "    <tr>\n",
       "      <th>0</th>\n",
       "      <td>1</td>\n",
       "      <td>2014-01-01 02:44:25</td>\n",
       "      <td>1968.91</td>\n",
       "    </tr>\n",
       "    <tr>\n",
       "      <th>1</th>\n",
       "      <td>1</td>\n",
       "      <td>2014-01-01 03:30:00</td>\n",
       "      <td>1767.31</td>\n",
       "    </tr>\n",
       "    <tr>\n",
       "      <th>2</th>\n",
       "      <td>1</td>\n",
       "      <td>2014-01-01 03:32:10</td>\n",
       "      <td>1628.60</td>\n",
       "    </tr>\n",
       "    <tr>\n",
       "      <th>3</th>\n",
       "      <td>1</td>\n",
       "      <td>2014-01-01 03:34:20</td>\n",
       "      <td>1482.73</td>\n",
       "    </tr>\n",
       "    <tr>\n",
       "      <th>4</th>\n",
       "      <td>1</td>\n",
       "      <td>2014-01-01 03:36:30</td>\n",
       "      <td>1258.71</td>\n",
       "    </tr>\n",
       "  </tbody>\n",
       "</table>\n",
       "</div>"
      ],
      "text/plain": [
       "          customer_id         cutoff_time  total_spent\n",
       "label_id                                              \n",
       "0                   1 2014-01-01 02:44:25      1968.91\n",
       "1                   1 2014-01-01 03:30:00      1767.31\n",
       "2                   1 2014-01-01 03:32:10      1628.60\n",
       "3                   1 2014-01-01 03:34:20      1482.73\n",
       "4                   1 2014-01-01 03:36:30      1258.71"
      ]
     },
     "execution_count": 5,
     "metadata": {},
     "output_type": "execute_result"
    }
   ],
   "source": [
    "labels = label_maker.search(\n",
    "    transactions,\n",
    "    minimum_data='2h',\n",
    "    num_examples_per_instance=50,\n",
    "    gap='2min',\n",
    ")\n",
    "\n",
    "labels.head()"
   ]
  },
  {
   "cell_type": "raw",
   "metadata": {
    "raw_mimetype": "text/restructuredtext"
   },
   "source": [
    "Transform Labels\n",
    "----------------\n",
    "\n",
    "With the generated :class:`LabelTimes`, we will apply specific transforms for our prediction problem.\n",
    "\n",
    "Apply Threshold on Labels\n",
    "~~~~~~~~~~~~~~~~~~~~~~~~~\n",
    "\n",
    "We apply :meth:`LabelTimes.threshold` to make the labels binary for total amounts exceeding $1200."
   ]
  },
  {
   "cell_type": "code",
   "execution_count": 6,
   "metadata": {},
   "outputs": [
    {
     "data": {
      "text/html": [
       "<div>\n",
       "<style scoped>\n",
       "    .dataframe tbody tr th:only-of-type {\n",
       "        vertical-align: middle;\n",
       "    }\n",
       "\n",
       "    .dataframe tbody tr th {\n",
       "        vertical-align: top;\n",
       "    }\n",
       "\n",
       "    .dataframe thead th {\n",
       "        text-align: right;\n",
       "    }\n",
       "</style>\n",
       "<table border=\"1\" class=\"dataframe\">\n",
       "  <thead>\n",
       "    <tr style=\"text-align: right;\">\n",
       "      <th></th>\n",
       "      <th>customer_id</th>\n",
       "      <th>cutoff_time</th>\n",
       "      <th>total_spent</th>\n",
       "    </tr>\n",
       "    <tr>\n",
       "      <th>label_id</th>\n",
       "      <th></th>\n",
       "      <th></th>\n",
       "      <th></th>\n",
       "    </tr>\n",
       "  </thead>\n",
       "  <tbody>\n",
       "    <tr>\n",
       "      <th>0</th>\n",
       "      <td>1</td>\n",
       "      <td>2014-01-01 02:44:25</td>\n",
       "      <td>True</td>\n",
       "    </tr>\n",
       "    <tr>\n",
       "      <th>1</th>\n",
       "      <td>1</td>\n",
       "      <td>2014-01-01 03:30:00</td>\n",
       "      <td>True</td>\n",
       "    </tr>\n",
       "    <tr>\n",
       "      <th>2</th>\n",
       "      <td>1</td>\n",
       "      <td>2014-01-01 03:32:10</td>\n",
       "      <td>True</td>\n",
       "    </tr>\n",
       "    <tr>\n",
       "      <th>3</th>\n",
       "      <td>1</td>\n",
       "      <td>2014-01-01 03:34:20</td>\n",
       "      <td>True</td>\n",
       "    </tr>\n",
       "    <tr>\n",
       "      <th>4</th>\n",
       "      <td>1</td>\n",
       "      <td>2014-01-01 03:36:30</td>\n",
       "      <td>True</td>\n",
       "    </tr>\n",
       "  </tbody>\n",
       "</table>\n",
       "</div>"
      ],
      "text/plain": [
       "          customer_id         cutoff_time  total_spent\n",
       "label_id                                              \n",
       "0                   1 2014-01-01 02:44:25         True\n",
       "1                   1 2014-01-01 03:30:00         True\n",
       "2                   1 2014-01-01 03:32:10         True\n",
       "3                   1 2014-01-01 03:34:20         True\n",
       "4                   1 2014-01-01 03:36:30         True"
      ]
     },
     "execution_count": 6,
     "metadata": {},
     "output_type": "execute_result"
    }
   ],
   "source": [
    "labels = labels.threshold(1200)\n",
    "\n",
    "labels.head()"
   ]
  },
  {
   "cell_type": "raw",
   "metadata": {
    "raw_mimetype": "text/restructuredtext"
   },
   "source": [
    "Lead Label Times\n",
    "~~~~~~~~~~~~~~~~\n",
    "\n",
    "We also use :meth:`LabelTimes.apply_lead` to shift the label times 1 hour earlier for predicting in advance."
   ]
  },
  {
   "cell_type": "code",
   "execution_count": 7,
   "metadata": {},
   "outputs": [
    {
     "data": {
      "text/html": [
       "<div>\n",
       "<style scoped>\n",
       "    .dataframe tbody tr th:only-of-type {\n",
       "        vertical-align: middle;\n",
       "    }\n",
       "\n",
       "    .dataframe tbody tr th {\n",
       "        vertical-align: top;\n",
       "    }\n",
       "\n",
       "    .dataframe thead th {\n",
       "        text-align: right;\n",
       "    }\n",
       "</style>\n",
       "<table border=\"1\" class=\"dataframe\">\n",
       "  <thead>\n",
       "    <tr style=\"text-align: right;\">\n",
       "      <th></th>\n",
       "      <th>customer_id</th>\n",
       "      <th>cutoff_time</th>\n",
       "      <th>total_spent</th>\n",
       "    </tr>\n",
       "    <tr>\n",
       "      <th>label_id</th>\n",
       "      <th></th>\n",
       "      <th></th>\n",
       "      <th></th>\n",
       "    </tr>\n",
       "  </thead>\n",
       "  <tbody>\n",
       "    <tr>\n",
       "      <th>0</th>\n",
       "      <td>1</td>\n",
       "      <td>2014-01-01 01:44:25</td>\n",
       "      <td>True</td>\n",
       "    </tr>\n",
       "    <tr>\n",
       "      <th>1</th>\n",
       "      <td>1</td>\n",
       "      <td>2014-01-01 02:30:00</td>\n",
       "      <td>True</td>\n",
       "    </tr>\n",
       "    <tr>\n",
       "      <th>2</th>\n",
       "      <td>1</td>\n",
       "      <td>2014-01-01 02:32:10</td>\n",
       "      <td>True</td>\n",
       "    </tr>\n",
       "    <tr>\n",
       "      <th>3</th>\n",
       "      <td>1</td>\n",
       "      <td>2014-01-01 02:34:20</td>\n",
       "      <td>True</td>\n",
       "    </tr>\n",
       "    <tr>\n",
       "      <th>4</th>\n",
       "      <td>1</td>\n",
       "      <td>2014-01-01 02:36:30</td>\n",
       "      <td>True</td>\n",
       "    </tr>\n",
       "  </tbody>\n",
       "</table>\n",
       "</div>"
      ],
      "text/plain": [
       "          customer_id         cutoff_time  total_spent\n",
       "label_id                                              \n",
       "0                   1 2014-01-01 01:44:25         True\n",
       "1                   1 2014-01-01 02:30:00         True\n",
       "2                   1 2014-01-01 02:32:10         True\n",
       "3                   1 2014-01-01 02:34:20         True\n",
       "4                   1 2014-01-01 02:36:30         True"
      ]
     },
     "execution_count": 7,
     "metadata": {},
     "output_type": "execute_result"
    }
   ],
   "source": [
    "labels = labels.apply_lead('1h')\n",
    "\n",
    "labels.head()"
   ]
  },
  {
   "cell_type": "raw",
   "metadata": {
    "raw_mimetype": "text/restructuredtext"
   },
   "source": [
    "Describe Labels\n",
    "---------------\n",
    "\n",
    "After transforming the labels, we could use :meth:`LabelTimes.describe` to print out the distribution with settings and transforms used to make the labels. This is useful as a reference for understanding how the labels were generated from raw data. We could also see the balance in the labels from the distribution."
   ]
  },
  {
   "cell_type": "code",
   "execution_count": 8,
   "metadata": {},
   "outputs": [
    {
     "name": "stdout",
     "output_type": "stream",
     "text": [
      "Label Distribution\n",
      "------------------\n",
      "False      93\n",
      "True       91\n",
      "Total:    184\n",
      "\n",
      "\n",
      "Settings\n",
      "--------\n",
      "num_examples_per_instance      50\n",
      "minimum_data                   2h\n",
      "window_size                    1h\n",
      "gap                          2min\n",
      "\n",
      "\n",
      "Transforms\n",
      "----------\n",
      "1. threshold\n",
      "  - value:    1200\n",
      "\n",
      "2. apply_lead\n",
      "  - value:    1h\n",
      "\n"
     ]
    }
   ],
   "source": [
    "labels.describe()"
   ]
  },
  {
   "cell_type": "raw",
   "metadata": {
    "raw_mimetype": "text/restructuredtext"
   },
   "source": [
    ".. currentmodule:: featuretools\n",
    "\n",
    "Generate Features\n",
    "=================\n",
    "\n",
    "Now with the generated labels, we are ready to generate features for our prediction problem.\n",
    "\n",
    "Create Entity Set\n",
    "-----------------\n",
    "\n",
    "Lets construct an :class:`EntitySet` and load the transactions as an entity by using :meth:`EntitySet.entity_from_dataframe`. Then extract additional entities by using :meth:`EntitySet.normalize_entity`.\n",
    "\n",
    ".. seealso::\n",
    "\n",
    "    For more details on working with entity sets, see :doc:`loading_data/using_entitysets` ."
   ]
  },
  {
   "cell_type": "code",
   "execution_count": 9,
   "metadata": {},
   "outputs": [],
   "source": [
    "es = ft.EntitySet('transactions')\n",
    "\n",
    "es.entity_from_dataframe(\n",
    "    'transactions',\n",
    "    transactions,\n",
    "    index='transaction_id',\n",
    "    time_index='transaction_time',\n",
    ")\n",
    "\n",
    "es.normalize_entity(\n",
    "    base_entity_id='transactions',\n",
    "    new_entity_id='sessions',\n",
    "    index='session_id',\n",
    "    make_time_index='session_start',\n",
    "    additional_variables=[\n",
    "        'device',\n",
    "        'customer_id',\n",
    "        'zip_code',\n",
    "        'session_start',\n",
    "        'join_date',\n",
    "        'date_of_birth',\n",
    "    ],\n",
    ")\n",
    "\n",
    "es.normalize_entity(\n",
    "    base_entity_id='sessions',\n",
    "    new_entity_id='customers',\n",
    "    index='customer_id',\n",
    "    make_time_index='join_date',\n",
    "    additional_variables=[\n",
    "        'zip_code',\n",
    "        'join_date',\n",
    "        'date_of_birth',\n",
    "    ],\n",
    ")\n",
    "\n",
    "es.normalize_entity(\n",
    "    base_entity_id='transactions',\n",
    "    new_entity_id='products',\n",
    "    index='product_id',\n",
    "    additional_variables=['brand'],\n",
    "    make_time_index=False,\n",
    ")\n",
    "\n",
    "es.add_last_time_indexes()"
   ]
  },
  {
   "cell_type": "raw",
   "metadata": {
    "raw_mimetype": "text/restructuredtext"
   },
   "source": [
    "Describe Entity Set\n",
    "-------------------\n",
    "\n",
    "To get information on how the entity set is structured, we could print the entity set and use :meth:`EntitySet.plot` to create a diagram."
   ]
  },
  {
   "cell_type": "code",
   "execution_count": 10,
   "metadata": {},
   "outputs": [
    {
     "name": "stdout",
     "output_type": "stream",
     "text": [
      "Entityset: transactions\n",
      "  Entities:\n",
      "    transactions [Rows: 500, Columns: 5]\n",
      "    sessions [Rows: 35, Columns: 4]\n",
      "    customers [Rows: 5, Columns: 4]\n",
      "    products [Rows: 5, Columns: 2]\n",
      "  Relationships:\n",
      "    transactions.session_id -> sessions.session_id\n",
      "    sessions.customer_id -> customers.customer_id\n",
      "    transactions.product_id -> products.product_id\n",
      "\n"
     ]
    },
    {
     "data": {
      "image/svg+xml": [
       "<?xml version=\"1.0\" encoding=\"UTF-8\" standalone=\"no\"?>\n",
       "<!DOCTYPE svg PUBLIC \"-//W3C//DTD SVG 1.1//EN\"\n",
       " \"http://www.w3.org/Graphics/SVG/1.1/DTD/svg11.dtd\">\n",
       "<!-- Generated by graphviz version 2.40.1 (20161225.0304)\n",
       " -->\n",
       "<!-- Title: transactions Pages: 1 -->\n",
       "<svg width=\"454pt\" height=\"371pt\"\n",
       " viewBox=\"0.00 0.00 453.50 371.00\" xmlns=\"http://www.w3.org/2000/svg\" xmlns:xlink=\"http://www.w3.org/1999/xlink\">\n",
       "<g id=\"graph0\" class=\"graph\" transform=\"scale(1 1) rotate(0) translate(4 367)\">\n",
       "<title>transactions</title>\n",
       "<polygon fill=\"#ffffff\" stroke=\"transparent\" points=\"-4,4 -4,-367 449.5,-367 449.5,4 -4,4\"/>\n",
       "<!-- transactions -->\n",
       "<g id=\"node1\" class=\"node\">\n",
       "<title>transactions</title>\n",
       "<polygon fill=\"none\" stroke=\"#000000\" points=\"102.5,-256.5 102.5,-362.5 404.5,-362.5 404.5,-256.5 102.5,-256.5\"/>\n",
       "<text text-anchor=\"middle\" x=\"253.5\" y=\"-347.3\" font-family=\"Times,serif\" font-size=\"14.00\" fill=\"#000000\">transactions</text>\n",
       "<polyline fill=\"none\" stroke=\"#000000\" points=\"102.5,-339.5 404.5,-339.5 \"/>\n",
       "<text text-anchor=\"start\" x=\"110.5\" y=\"-324.3\" font-family=\"Times,serif\" font-size=\"14.00\" fill=\"#000000\">transaction_id : index</text>\n",
       "<text text-anchor=\"start\" x=\"110.5\" y=\"-309.3\" font-family=\"Times,serif\" font-size=\"14.00\" fill=\"#000000\">session_id : id</text>\n",
       "<text text-anchor=\"start\" x=\"110.5\" y=\"-294.3\" font-family=\"Times,serif\" font-size=\"14.00\" fill=\"#000000\">transaction_time : datetime_time_index</text>\n",
       "<text text-anchor=\"start\" x=\"110.5\" y=\"-279.3\" font-family=\"Times,serif\" font-size=\"14.00\" fill=\"#000000\">product_id : id</text>\n",
       "<text text-anchor=\"start\" x=\"110.5\" y=\"-264.3\" font-family=\"Times,serif\" font-size=\"14.00\" fill=\"#000000\">amount : numeric</text>\n",
       "</g>\n",
       "<!-- sessions -->\n",
       "<g id=\"node2\" class=\"node\">\n",
       "<title>sessions</title>\n",
       "<polygon fill=\"none\" stroke=\"#000000\" points=\"0,-128.5 0,-219.5 275,-219.5 275,-128.5 0,-128.5\"/>\n",
       "<text text-anchor=\"middle\" x=\"137.5\" y=\"-204.3\" font-family=\"Times,serif\" font-size=\"14.00\" fill=\"#000000\">sessions</text>\n",
       "<polyline fill=\"none\" stroke=\"#000000\" points=\"0,-196.5 275,-196.5 \"/>\n",
       "<text text-anchor=\"start\" x=\"8\" y=\"-181.3\" font-family=\"Times,serif\" font-size=\"14.00\" fill=\"#000000\">session_id : index</text>\n",
       "<text text-anchor=\"start\" x=\"8\" y=\"-166.3\" font-family=\"Times,serif\" font-size=\"14.00\" fill=\"#000000\">device : categorical</text>\n",
       "<text text-anchor=\"start\" x=\"8\" y=\"-151.3\" font-family=\"Times,serif\" font-size=\"14.00\" fill=\"#000000\">customer_id : id</text>\n",
       "<text text-anchor=\"start\" x=\"8\" y=\"-136.3\" font-family=\"Times,serif\" font-size=\"14.00\" fill=\"#000000\">session_start : datetime_time_index</text>\n",
       "</g>\n",
       "<!-- transactions&#45;&gt;sessions -->\n",
       "<g id=\"edge1\" class=\"edge\">\n",
       "<title>transactions&#45;&gt;sessions</title>\n",
       "<path fill=\"none\" stroke=\"#000000\" d=\"M188.75,-256.3357C188.75,-256.3357 188.75,-229.5525 188.75,-229.5525\"/>\n",
       "<polygon fill=\"#000000\" stroke=\"#000000\" points=\"192.2501,-229.5525 188.75,-219.5525 185.2501,-229.5525 192.2501,-229.5525\"/>\n",
       "<text text-anchor=\"middle\" x=\"151.75\" y=\"-231.7441\" font-family=\"Times,serif\" font-size=\"14.00\" fill=\"#000000\">session_id</text>\n",
       "</g>\n",
       "<!-- products -->\n",
       "<g id=\"node4\" class=\"node\">\n",
       "<title>products</title>\n",
       "<polygon fill=\"none\" stroke=\"#000000\" points=\"293.5,-143.5 293.5,-204.5 445.5,-204.5 445.5,-143.5 293.5,-143.5\"/>\n",
       "<text text-anchor=\"middle\" x=\"369.5\" y=\"-189.3\" font-family=\"Times,serif\" font-size=\"14.00\" fill=\"#000000\">products</text>\n",
       "<polyline fill=\"none\" stroke=\"#000000\" points=\"293.5,-181.5 445.5,-181.5 \"/>\n",
       "<text text-anchor=\"start\" x=\"301.5\" y=\"-166.3\" font-family=\"Times,serif\" font-size=\"14.00\" fill=\"#000000\">product_id : index</text>\n",
       "<text text-anchor=\"start\" x=\"301.5\" y=\"-151.3\" font-family=\"Times,serif\" font-size=\"14.00\" fill=\"#000000\">brand : categorical</text>\n",
       "</g>\n",
       "<!-- transactions&#45;&gt;products -->\n",
       "<g id=\"edge3\" class=\"edge\">\n",
       "<title>transactions&#45;&gt;products</title>\n",
       "<path fill=\"none\" stroke=\"#000000\" d=\"M349,-256.3357C349,-256.3357 349,-214.7285 349,-214.7285\"/>\n",
       "<polygon fill=\"#000000\" stroke=\"#000000\" points=\"352.5001,-214.7285 349,-204.7285 345.5001,-214.7286 352.5001,-214.7285\"/>\n",
       "<text text-anchor=\"middle\" x=\"310\" y=\"-239.3321\" font-family=\"Times,serif\" font-size=\"14.00\" fill=\"#000000\">product_id</text>\n",
       "</g>\n",
       "<!-- customers -->\n",
       "<g id=\"node3\" class=\"node\">\n",
       "<title>customers</title>\n",
       "<polygon fill=\"none\" stroke=\"#000000\" points=\"15,-.5 15,-91.5 260,-91.5 260,-.5 15,-.5\"/>\n",
       "<text text-anchor=\"middle\" x=\"137.5\" y=\"-76.3\" font-family=\"Times,serif\" font-size=\"14.00\" fill=\"#000000\">customers</text>\n",
       "<polyline fill=\"none\" stroke=\"#000000\" points=\"15,-68.5 260,-68.5 \"/>\n",
       "<text text-anchor=\"start\" x=\"23\" y=\"-53.3\" font-family=\"Times,serif\" font-size=\"14.00\" fill=\"#000000\">customer_id : index</text>\n",
       "<text text-anchor=\"start\" x=\"23\" y=\"-38.3\" font-family=\"Times,serif\" font-size=\"14.00\" fill=\"#000000\">zip_code : categorical</text>\n",
       "<text text-anchor=\"start\" x=\"23\" y=\"-23.3\" font-family=\"Times,serif\" font-size=\"14.00\" fill=\"#000000\">join_date : datetime_time_index</text>\n",
       "<text text-anchor=\"start\" x=\"23\" y=\"-8.3\" font-family=\"Times,serif\" font-size=\"14.00\" fill=\"#000000\">date_of_birth : datetime</text>\n",
       "</g>\n",
       "<!-- sessions&#45;&gt;customers -->\n",
       "<g id=\"edge2\" class=\"edge\">\n",
       "<title>sessions&#45;&gt;customers</title>\n",
       "<path fill=\"none\" stroke=\"#000000\" d=\"M137.5,-128.1506C137.5,-128.1506 137.5,-101.5293 137.5,-101.5293\"/>\n",
       "<polygon fill=\"#000000\" stroke=\"#000000\" points=\"141.0001,-101.5292 137.5,-91.5293 134.0001,-101.5293 141.0001,-101.5292\"/>\n",
       "<text text-anchor=\"middle\" x=\"93\" y=\"-103.6399\" font-family=\"Times,serif\" font-size=\"14.00\" fill=\"#000000\">customer_id</text>\n",
       "</g>\n",
       "</g>\n",
       "</svg>\n"
      ],
      "text/plain": [
       "<graphviz.dot.Digraph at 0x7fb840c75e48>"
      ]
     },
     "execution_count": 10,
     "metadata": {},
     "output_type": "execute_result"
    }
   ],
   "source": [
    "print(es, end='\\n\\n')\n",
    "\n",
    "es.plot()"
   ]
  },
  {
   "cell_type": "raw",
   "metadata": {
    "raw_mimetype": "text/restructuredtext"
   },
   "source": [
    "Create Feature Matrix\n",
    "---------------------\n",
    "\n",
    "Next, we generate features that correspond to the labels created previously by using :func:`dfs`. The :code:`target_entity` is set to :code:`customers` so that features are only calculated for customers. The :code:`cutoff_time` is set to the labels so that features are calculated only using data up to and including the label cutoff times. We also specify which aggregation and transform primitives to use for generating features. Notice that the output of Compose integrates easily with Featuretools.\n",
    "\n",
    ".. seealso::\n",
    "    \n",
    "    For more details on calculating features using cutoff times, see :doc:`automated_feature_engineering/handling_time`."
   ]
  },
  {
   "cell_type": "code",
   "execution_count": 11,
   "metadata": {},
   "outputs": [
    {
     "name": "stdout",
     "output_type": "stream",
     "text": [
      "Built 14 features\n",
      "Elapsed: 00:47 | Remaining: 00:00 | Progress: 100%|██████████| Calculated: 11/11 chunks\n"
     ]
    }
   ],
   "source": [
    "feature_matrix, features_defs = ft.dfs(\n",
    "    entityset=es,\n",
    "    target_entity='customers',\n",
    "    cutoff_time=labels,\n",
    "    agg_primitives=[\n",
    "        'std',\n",
    "        'trend',\n",
    "    ],\n",
    "    trans_primitives=[\n",
    "        'cum_min',\n",
    "        'cum_mean',\n",
    "        'cum_max',\n",
    "        'cum_sum',\n",
    "    ],\n",
    "    cutoff_time_in_index=True,\n",
    "    verbose=True,\n",
    ")"
   ]
  },
  {
   "cell_type": "raw",
   "metadata": {
    "raw_mimetype": "text/restructuredtext"
   },
   "source": [
    "Describe Features\n",
    "-----------------\n",
    "\n",
    "To get an idea on how the generated features look, we list the feature definitions."
   ]
  },
  {
   "cell_type": "code",
   "execution_count": 12,
   "metadata": {},
   "outputs": [
    {
     "data": {
      "text/plain": [
       "[<Feature: zip_code>,\n",
       " <Feature: STD(transactions.amount)>,\n",
       " <Feature: TREND(transactions.amount, transaction_time)>,\n",
       " <Feature: STD(sessions.TREND(transactions.amount, transaction_time))>,\n",
       " <Feature: TREND(sessions.STD(transactions.amount), session_start)>,\n",
       " <Feature: TREND(sessions.TREND(transactions.amount, transaction_time), session_start)>,\n",
       " <Feature: CUM_MIN(STD(transactions.amount))>,\n",
       " <Feature: CUM_MIN(TREND(transactions.amount, transaction_time))>,\n",
       " <Feature: CUM_MEAN(STD(transactions.amount))>,\n",
       " <Feature: CUM_MEAN(TREND(transactions.amount, transaction_time))>,\n",
       " <Feature: CUM_MAX(STD(transactions.amount))>,\n",
       " <Feature: CUM_MAX(TREND(transactions.amount, transaction_time))>,\n",
       " <Feature: CUM_SUM(STD(transactions.amount))>,\n",
       " <Feature: CUM_SUM(TREND(transactions.amount, transaction_time))>]"
      ]
     },
     "execution_count": 12,
     "metadata": {},
     "output_type": "execute_result"
    }
   ],
   "source": [
    "features_defs"
   ]
  },
  {
   "cell_type": "raw",
   "metadata": {
    "raw_mimetype": "text/restructuredtext"
   },
   "source": [
    "Apply Machine Learning\n",
    "======================\n",
    "\n",
    "Now with the generated labels and features, we are ready to create a machine learning model for our prediction problem."
   ]
  },
  {
   "cell_type": "raw",
   "metadata": {
    "raw_mimetype": "text/restructuredtext"
   },
   "source": [
    "Split Feature Matrix\n",
    "--------------------\n",
    "\n",
    "Lets extract the labels and preprocess the feature matrix by filling any missing values with zeros. Then split the labels and features into training and testing sets."
   ]
  },
  {
   "cell_type": "code",
   "execution_count": 13,
   "metadata": {},
   "outputs": [],
   "source": [
    "y = feature_matrix.pop(labels.name)\n",
    "x = feature_matrix.fillna(0)\n",
    "\n",
    "x_train, x_test, y_train, y_test = train_test_split(\n",
    "    x,\n",
    "    y,\n",
    "    train_size=.8,\n",
    "    test_size=.2,\n",
    ")"
   ]
  },
  {
   "cell_type": "raw",
   "metadata": {
    "raw_mimetype": "text/restructuredtext"
   },
   "source": [
    "Train Model\n",
    "-----------\n",
    "\n",
    "Next, we train a random forest classifer on the training set."
   ]
  },
  {
   "cell_type": "code",
   "execution_count": 14,
   "metadata": {},
   "outputs": [
    {
     "data": {
      "text/plain": [
       "RandomForestClassifier(bootstrap=True, class_weight=None, criterion='gini',\n",
       "            max_depth=None, max_features='auto', max_leaf_nodes=None,\n",
       "            min_impurity_decrease=0.0, min_impurity_split=None,\n",
       "            min_samples_leaf=1, min_samples_split=2,\n",
       "            min_weight_fraction_leaf=0.0, n_estimators=10, n_jobs=None,\n",
       "            oob_score=False, random_state=None, verbose=0,\n",
       "            warm_start=False)"
      ]
     },
     "execution_count": 14,
     "metadata": {},
     "output_type": "execute_result"
    }
   ],
   "source": [
    "clf = RandomForestClassifier(n_estimators=10)\n",
    "\n",
    "clf.fit(x_train, y_train)"
   ]
  },
  {
   "cell_type": "raw",
   "metadata": {
    "raw_mimetype": "text/restructuredtext"
   },
   "source": [
    "Test Model\n",
    "----------\n",
    "\n",
    "Lastly, we test the model performance by evaluating predictions on the testing set."
   ]
  },
  {
   "cell_type": "code",
   "execution_count": 15,
   "metadata": {},
   "outputs": [
    {
     "name": "stdout",
     "output_type": "stream",
     "text": [
      "              precision    recall  f1-score   support\n",
      "\n",
      "       False       0.86      0.83      0.84        23\n",
      "        True       0.73      0.79      0.76        14\n",
      "\n",
      "   micro avg       0.81      0.81      0.81        37\n",
      "   macro avg       0.80      0.81      0.80        37\n",
      "weighted avg       0.81      0.81      0.81        37\n",
      "\n"
     ]
    }
   ],
   "source": [
    "y_hat = clf.predict(x_test)\n",
    "\n",
    "print(classification_report(y_test, y_hat))"
   ]
  }
 ],
 "metadata": {
  "celltoolbar": "Raw Cell Format",
  "kernelspec": {
   "display_name": "Python 3",
   "language": "python",
   "name": "python3"
  },
  "language_info": {
   "codemirror_mode": {
    "name": "ipython",
    "version": 3
   },
   "file_extension": ".py",
   "mimetype": "text/x-python",
   "name": "python",
   "nbconvert_exporter": "python",
   "pygments_lexer": "ipython3",
   "version": "3.7.1"
  }
 },
 "nbformat": 4,
 "nbformat_minor": 2
}
